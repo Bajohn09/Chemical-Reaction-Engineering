{
 "cells": [
  {
   "cell_type": "markdown",
   "metadata": {},
   "source": [
    "## Help Jesse Pinkman"
   ]
  },
  {
   "cell_type": "markdown",
   "metadata": {},
   "source": [
    "The financially important reaction to produce the\n",
    "valuable product B (not the real name) was carried out\n",
    "in Jesse Pinkman’s garage (see *Breaking Bad* Season\n",
    "3, Episode 7). This Breaking Bad, fly-by-night\n",
    "company, is on a shoestring budget and has very little\n",
    "money to purchase equipment. Fortunately, cousin\n",
    "Bernie has a reactor surplus company and you can get\n",
    "reactors from Bernie. The reaction\n",
    "\n",
    "$$A \\rightarrow B + C $$\n",
    "\n",
    "takes place in the liquid phase. You have up to $10,000 to use to purchase reactors from those given below."
   ]
  },
  {
   "cell_type": "code",
   "execution_count": 65,
   "metadata": {},
   "outputs": [
    {
     "data": {
      "text/html": [
       "<div>\n",
       "<style scoped>\n",
       "    .dataframe tbody tr th:only-of-type {\n",
       "        vertical-align: middle;\n",
       "    }\n",
       "\n",
       "    .dataframe tbody tr th {\n",
       "        vertical-align: top;\n",
       "    }\n",
       "\n",
       "    .dataframe thead th {\n",
       "        text-align: right;\n",
       "    }\n",
       "</style>\n",
       "<table border=\"1\" class=\"dataframe\">\n",
       "  <thead>\n",
       "    <tr style=\"text-align: right;\">\n",
       "      <th></th>\n",
       "      <th>Reactor Type</th>\n",
       "      <th>Number</th>\n",
       "      <th>Volume (dm3)</th>\n",
       "      <th>Cost ($)</th>\n",
       "    </tr>\n",
       "  </thead>\n",
       "  <tbody>\n",
       "    <tr>\n",
       "      <th>0</th>\n",
       "      <td>CSTR</td>\n",
       "      <td>2</td>\n",
       "      <td>2</td>\n",
       "      <td>1000</td>\n",
       "    </tr>\n",
       "    <tr>\n",
       "      <th>1</th>\n",
       "      <td>CSTR</td>\n",
       "      <td>1</td>\n",
       "      <td>4</td>\n",
       "      <td>2000</td>\n",
       "    </tr>\n",
       "    <tr>\n",
       "      <th>2</th>\n",
       "      <td>PFR</td>\n",
       "      <td>2</td>\n",
       "      <td>4</td>\n",
       "      <td>2000</td>\n",
       "    </tr>\n",
       "    <tr>\n",
       "      <th>3</th>\n",
       "      <td>CSTR</td>\n",
       "      <td>2</td>\n",
       "      <td>6</td>\n",
       "      <td>4000</td>\n",
       "    </tr>\n",
       "    <tr>\n",
       "      <th>4</th>\n",
       "      <td>CSTR</td>\n",
       "      <td>3</td>\n",
       "      <td>12</td>\n",
       "      <td>8000</td>\n",
       "    </tr>\n",
       "    <tr>\n",
       "      <th>5</th>\n",
       "      <td>PFR</td>\n",
       "      <td>2</td>\n",
       "      <td>12</td>\n",
       "      <td>6000</td>\n",
       "    </tr>\n",
       "  </tbody>\n",
       "</table>\n",
       "</div>"
      ],
      "text/plain": [
       "  Reactor Type  Number  Volume (dm3)  Cost ($)\n",
       "0         CSTR       2             2      1000\n",
       "1         CSTR       1             4      2000\n",
       "2          PFR       2             4      2000\n",
       "3         CSTR       2             6      4000\n",
       "4         CSTR       3            12      8000\n",
       "5          PFR       2            12      6000"
      ]
     },
     "execution_count": 65,
     "metadata": {},
     "output_type": "execute_result"
    }
   ],
   "source": [
    "import numpy as np\n",
    "import pandas as pd\n",
    "import matplotlib.pyplot as plt\n",
    "from matplotlib.patches import Rectangle\n",
    "\n",
    "from scipy.optimize import fsolve\n",
    "from scipy.integrate import quad\n",
    "\n",
    "# Cousin Bernie's Reactor\n",
    "CBR = pd.DataFrame({\"Reactor Type\" : [\"CSTR\", \"CSTR\", \"PFR\", \"CSTR\", \"CSTR\", \"PFR\"],\n",
    "                    \"Number\": [2, 1, 2, 2, 3, 2],\n",
    "                    \"Volume (dm3)\": [2, 4, 4, 6, 12, 12],\n",
    "                    \"Cost ($)\": [1000, 2000, 2000, 4000, 8000, 6000]})\n",
    "\n",
    "CBR"
   ]
  },
  {
   "cell_type": "markdown",
   "metadata": {},
   "source": [
    "Below is the Levenspiel plot\n",
    "for this reaction"
   ]
  },
  {
   "cell_type": "code",
   "execution_count": 3,
   "metadata": {},
   "outputs": [
    {
     "data": {
      "text/plain": [
       "Text(0.5,1,'Levenspiel Plot')"
      ]
     },
     "execution_count": 3,
     "metadata": {},
     "output_type": "execute_result"
    },
    {
     "data": {
      "image/png": "[encoded data removed]",
      "text/plain": [
       "<Figure size 432x288 with 1 Axes>"
      ]
     },
     "metadata": {
      "needs_background": "light"
     },
     "output_type": "display_data"
    }
   ],
   "source": [
    "data = pd.DataFrame({\"Fao/(-ra)\": [50, 35, 20, 20, 20, 20, 20, 40, 60, 80],\n",
    "                    \"X\": np.linspace(0, 0.9, 10)})\n",
    "\n",
    "plt.plot(data[\"X\"], data[\"Fao/(-ra)\"])\n",
    "plt.xlabel(\"Conversion (X)\")\n",
    "plt.ylabel(\"Fao/(-ra) (dm3)\")\n",
    "plt.title(\"Levenspiel Plot\")"
   ]
  },
  {
   "cell_type": "code",
   "execution_count": 104,
   "metadata": {},
   "outputs": [],
   "source": [
    "def ra(X):\n",
    "    \n",
    "    if X >= 0 and X <=0.2:\n",
    "        # Use a linear regression to estimate the line on this region\n",
    "        ra = -150*X + 50\n",
    "    elif X > 0.2 and X <=0.6:\n",
    "        ra = 20\n",
    "    elif X > 0.6 and X <=0.9:\n",
    "        # Use a linear regression to estimate the line on this region\n",
    "        ra = 200*X - 100\n",
    "    else:\n",
    "        print(\"reaction rate data is not available\")\n",
    "    \n",
    "    return ra"
   ]
  },
  {
   "cell_type": "code",
   "execution_count": 24,
   "metadata": {},
   "outputs": [
    {
     "data": {
      "text/plain": [
       "Text(0.5,1,'Levenspiel Plot')"
      ]
     },
     "execution_count": 24,
     "metadata": {},
     "output_type": "execute_result"
    },
    {
     "data": {
      "image/png": "[encoded data removed]",
      "text/plain": [
       "<Figure size 432x288 with 1 Axes>"
      ]
     },
     "metadata": {
      "needs_background": "light"
     },
     "output_type": "display_data"
    }
   ],
   "source": [
    "X = np.linspace(0,0.9,100)\n",
    "ra_X = np.vectorize(ra)(X)\n",
    "\n",
    "plt.plot(X,ra_X)\n",
    "plt.xlabel(\"Conversion (X)\")\n",
    "plt.ylabel(\"Fao/(-ra) (dm3)\")\n",
    "plt.title(\"Levenspiel Plot\")"
   ]
  },
  {
   "cell_type": "markdown",
   "metadata": {},
   "source": [
    "What reactors do you choose, how do you arrange them, and\n",
    "what is the highest conversion you can get for $10,000?\n",
    "Approximately what is the corresponding highest conversion\n",
    "with your arrangement of reactors?"
   ]
  },
  {
   "cell_type": "markdown",
   "metadata": {},
   "source": [
    "To find the best arrangement of reactors, we will create functions that estimate the final conversion for both CSTR and PFR given the initial conversion, the reaction rate (as a function of conversion) and reactor volume.\n",
    "\n",
    "For better guidance, here is a small step-by-step guidance on how to solve the equations.\n",
    "\n",
    "1. Assume a value for the conversion at the exit of the reactor (Xout).\n",
    "\n",
    "2. Use the design equations to calculate the reactor volume. <br>\n",
    "2a. CSTR: Algebraic equation, calculate volume directly. <br>\n",
    "2b. PFR: differential equation, use numerical integration to find volume. see *quad* method from SciPy library. <br>\n",
    "\n",
    "3. Compare the calculated reactor volume with the given volume.\n",
    "\n",
    "4. Iterate Xout until the calculated volume is equal to the given volume.\n",
    "There are several methods available to run these iterations, i use the *fsolve* method from SciPy library.\n",
    " "
   ]
  },
  {
   "cell_type": "markdown",
   "metadata": {},
   "source": [
    "## CSTR"
   ]
  },
  {
   "cell_type": "code",
   "execution_count": 26,
   "metadata": {},
   "outputs": [],
   "source": [
    "def Vol_CSTR(Xin, Xout, Fa0_ra):\n",
    "    return Fa0_ra(Xout)*(Xout - Xin)\n",
    "\n",
    "def Xout_CSTR_eq(Xout, *args):\n",
    "    \n",
    "    Xin, Fa0_ra, V = args\n",
    "    \n",
    "    F = Vol_CSTR(Xin, Xout, Fa0_ra) - V\n",
    "    \n",
    "    return F**2\n",
    "\n",
    "def Xout_CSTR(Xin, Fa0_ra, V):\n",
    "    Xout = fsolve(Xout_CSTR_eq, 0, args=(Xin, Fa0_ra, V))\n",
    "    \n",
    "    return Xout[0]"
   ]
  },
  {
   "cell_type": "markdown",
   "metadata": {},
   "source": [
    "## PFR"
   ]
  },
  {
   "cell_type": "code",
   "execution_count": 27,
   "metadata": {},
   "outputs": [],
   "source": [
    "def Vol_PFR(Xin, Xout, Fa0_ra):\n",
    "    return quad(Fa0_ra, Xin, Xout)[0] \n",
    "\n",
    "def Xout_PFR_eq(Xout, *args):\n",
    "    \n",
    "    Xin, Fa0_ra, V = args\n",
    "    \n",
    "    F = Vol_PFR(Xin, Xout, Fa0_ra) - V\n",
    "    \n",
    "    return F**2\n",
    "\n",
    "def Xout_PFR(Xin, Fa0_ra, V):\n",
    "    Xout = fsolve(Xout_PFR_eq, 0, args=(Xin, Fa0_ra, V))\n",
    "    \n",
    "    return Xout[0]"
   ]
  },
  {
   "cell_type": "markdown",
   "metadata": {},
   "source": [
    "Now that we can calculate the conversion at the reactor outlet of either CSTR or PFR reactor, we can test different reactor configurations and see which gives the highest conversion."
   ]
  },
  {
   "cell_type": "code",
   "execution_count": 89,
   "metadata": {},
   "outputs": [],
   "source": [
    "conversion = {}"
   ]
  },
  {
   "cell_type": "markdown",
   "metadata": {},
   "source": [
    "## Case 1: PFR only\n",
    "\n",
    "With $10,000, we can buy a 12L reactor and 2 4L reactors for a total of 20L in volume. For ideal PFR, only the final volume matters. So the final conversion can be calculated as: "
   ]
  },
  {
   "cell_type": "code",
   "execution_count": 90,
   "metadata": {},
   "outputs": [
    {
     "data": {
      "text/plain": [
       "0.74494897417863415"
      ]
     },
     "execution_count": 90,
     "metadata": {},
     "output_type": "execute_result"
    }
   ],
   "source": [
    "conversion[\"Case 1\"] = Xout_PFR(0, ra, 20)\n",
    "conversion[\"Case 1\"]"
   ]
  },
  {
   "cell_type": "markdown",
   "metadata": {},
   "source": [
    "## Case 2: 12L CSTR followed by 4L "
   ]
  },
  {
   "cell_type": "code",
   "execution_count": 91,
   "metadata": {},
   "outputs": [
    {
     "data": {
      "text/plain": [
       "0.6999999999999994"
      ]
     },
     "execution_count": 91,
     "metadata": {},
     "output_type": "execute_result"
    }
   ],
   "source": [
    "conversion[\"Case 2\"] = Xout_CSTR(Xout_CSTR(0, ra, 12), ra, 4)\n",
    "conversion[\"Case 2\"]"
   ]
  },
  {
   "cell_type": "markdown",
   "metadata": {},
   "source": [
    "## Case 3: 6L CSTR followed by 12L PFR"
   ]
  },
  {
   "cell_type": "code",
   "execution_count": 92,
   "metadata": {},
   "outputs": [
    {
     "data": {
      "text/plain": [
       "0.76457513097043006"
      ]
     },
     "execution_count": 92,
     "metadata": {},
     "output_type": "execute_result"
    }
   ],
   "source": [
    "conversion[\"Case 3\"] = Xout_PFR(Xout_CSTR(0, ra, 6), ra, 12)\n",
    "conversion[\"Case 3\"]"
   ]
  },
  {
   "cell_type": "markdown",
   "metadata": {},
   "source": [
    "\n",
    "## Case 4: 4L CSTR followed by 4L PFR followed by a 12L PFR"
   ]
  },
  {
   "cell_type": "code",
   "execution_count": 93,
   "metadata": {},
   "outputs": [
    {
     "data": {
      "text/plain": [
       "0.77080128007965709"
      ]
     },
     "execution_count": 93,
     "metadata": {},
     "output_type": "execute_result"
    }
   ],
   "source": [
    "conversion[\"Case 4\"] = Xout_PFR(Xout_CSTR(0, ra, 4), ra, 16)\n",
    "conversion[\"Case 4\"]"
   ]
  },
  {
   "cell_type": "markdown",
   "metadata": {},
   "source": [
    "## Case 5: 6L CSTR followed by 6L CSTR followed by a 4L PFR"
   ]
  },
  {
   "cell_type": "code",
   "execution_count": 94,
   "metadata": {},
   "outputs": [
    {
     "data": {
      "text/plain": [
       "0.72360679774997871"
      ]
     },
     "execution_count": 94,
     "metadata": {},
     "output_type": "execute_result"
    }
   ],
   "source": [
    "conversion[\"Case 5\"] = Xout_PFR(Xout_CSTR(Xout_CSTR(0, ra, 6), ra, 6), ra, 4)\n",
    "conversion[\"Case 5\"]"
   ]
  },
  {
   "cell_type": "markdown",
   "metadata": {},
   "source": [
    "## Analysis"
   ]
  },
  {
   "cell_type": "markdown",
   "metadata": {},
   "source": [
    "We can continue testing different configurations looking for the highest conversion. However, it is best to analyze the shape of the reaction rate as a function of conversion. We will analyze by dividing the graph in three sections:"
   ]
  },
  {
   "cell_type": "markdown",
   "metadata": {},
   "source": [
    "## 1. Section 1: 0 to 0.2\n",
    "\n",
    "In this region $\\frac {Fa0} {ra} $ descends from 50 to 20. The volume required for a CSTR is less than the PFR. This is clear when you compare the area under the curve vs the rectangle formed with height 20 (final $\\frac {Fa0} {ra}$) and width 0.2 ($X_{out}$ - $X_{in})$.\n"
   ]
  },
  {
   "cell_type": "code",
   "execution_count": 82,
   "metadata": {},
   "outputs": [
    {
     "name": "stdout",
     "output_type": "stream",
     "text": [
      "CSTR Volume: 4.0L\n"
     ]
    }
   ],
   "source": [
    "print(\"CSTR Volume: {}L\".format(Vol_CSTR(0, 0.2, ra)))"
   ]
  },
  {
   "cell_type": "code",
   "execution_count": 83,
   "metadata": {},
   "outputs": [
    {
     "name": "stdout",
     "output_type": "stream",
     "text": [
      "PFR Volume: 7.0L\n"
     ]
    }
   ],
   "source": [
    "print(\"PFR Volume: {}L\".format(Vol_PFR(0, 0.2, ra)))"
   ]
  },
  {
   "cell_type": "code",
   "execution_count": 84,
   "metadata": {},
   "outputs": [],
   "source": [
    "def plot_levenspiel_plot(Xin, Xout, Fa0_ra_out):\n",
    "\n",
    "    conversion =  np.linspace(0, 0.9, 50)\n",
    "    fa0_ra = []\n",
    "    for x in conversion:\n",
    "        fa0_ra.append(ra(x))\n",
    "\n",
    "    data = pd.DataFrame({\"Fao/(-ra)\": fa0_ra,\n",
    "                        \"X\": conversion})\n",
    "\n",
    "    fig, ax = plt.subplots()\n",
    "\n",
    "    ax.plot(data[\"X\"], data[\"Fao/(-ra)\"], label=\"\")\n",
    "    ax.set_xlabel(\"Conversion (X)\")\n",
    "    ax.set_ylabel(\"Fao/(-ra) (dm3)\")\n",
    "    ax.set_title(\"Levenspiel Plot\")\n",
    "    \n",
    "    fa0_ra_sec = []\n",
    "    x_sec = np.linspace(Xin, Xout, 10)\n",
    "    \n",
    "    for x in x_sec:\n",
    "        fa0_ra_sec.append(ra(x))\n",
    "        \n",
    "    ax.fill_between(x_sec,fa0_ra_sec, color= \"navy\", alpha=0.3, label=\"PFR\")\n",
    "    ax.add_patch(Rectangle((Xin,0), (Xout - Xin), Fa0_ra_out, color=\"red\" , alpha=0.1, label=\"CSTR\"))\n",
    "    ax.legend()\n",
    "\n"
   ]
  },
  {
   "cell_type": "code",
   "execution_count": 85,
   "metadata": {},
   "outputs": [
    {
     "data": {
      "image/png": "[encoded data removed]",
      "text/plain": [
       "<Figure size 432x288 with 1 Axes>"
      ]
     },
     "metadata": {
      "needs_background": "light"
     },
     "output_type": "display_data"
    }
   ],
   "source": [
    "plot_levenspiel_plot(Xin=0, Xout=0.2, Fa0_ra_out=20)"
   ]
  },
  {
   "cell_type": "markdown",
   "metadata": {},
   "source": [
    "## 2. Section 2: 0.2 to 0.6\n",
    "\n",
    "In this region $\\frac {Fa0} {ra} $ stays constant at 20. The reactor volume will be the same regardless whether it is a CSTR or PFR. "
   ]
  },
  {
   "cell_type": "code",
   "execution_count": 50,
   "metadata": {},
   "outputs": [
    {
     "data": {
      "text/plain": [
       "7.999999999999999"
      ]
     },
     "execution_count": 50,
     "metadata": {},
     "output_type": "execute_result"
    }
   ],
   "source": [
    "Vol_CSTR(0.2, 0.6, ra)"
   ]
  },
  {
   "cell_type": "code",
   "execution_count": 51,
   "metadata": {},
   "outputs": [
    {
     "data": {
      "text/plain": [
       "7.999999999999999"
      ]
     },
     "execution_count": 51,
     "metadata": {},
     "output_type": "execute_result"
    }
   ],
   "source": [
    "Vol_PFR(0.2, 0.6, ra)"
   ]
  },
  {
   "cell_type": "code",
   "execution_count": 86,
   "metadata": {},
   "outputs": [
    {
     "data": {
      "image/png": "[encoded data removed]",
      "text/plain": [
       "<Figure size 432x288 with 1 Axes>"
      ]
     },
     "metadata": {
      "needs_background": "light"
     },
     "output_type": "display_data"
    }
   ],
   "source": [
    "plot_levenspiel_plot(Xin=0.2, Xout=0.6, Fa0_ra_out=20)"
   ]
  },
  {
   "cell_type": "markdown",
   "metadata": {},
   "source": [
    "## 3. Section 3: 0.6 to 0.9\n",
    "\n",
    "In this region $\\frac {Fa0} {ra} $ increases steadily from 20 to 80. Hence the smallest reactor will be a PFR as the area under the curve will be always smaller to the rectangle (or series of rentagles) formed with height $\\frac {Fa0} {ra} $ that increases with conversion. "
   ]
  },
  {
   "cell_type": "code",
   "execution_count": 52,
   "metadata": {},
   "outputs": [
    {
     "data": {
      "text/plain": [
       "24.000000000000004"
      ]
     },
     "execution_count": 52,
     "metadata": {},
     "output_type": "execute_result"
    }
   ],
   "source": [
    "Vol_CSTR(0.6, 0.9, ra)"
   ]
  },
  {
   "cell_type": "code",
   "execution_count": 53,
   "metadata": {},
   "outputs": [
    {
     "data": {
      "text/plain": [
       "15.000000000000002"
      ]
     },
     "execution_count": 53,
     "metadata": {},
     "output_type": "execute_result"
    }
   ],
   "source": [
    "Vol_PFR(0.6, 0.9, ra)"
   ]
  },
  {
   "cell_type": "code",
   "execution_count": 87,
   "metadata": {},
   "outputs": [
    {
     "data": {
      "image/png": "[encoded data removed]",
      "text/plain": [
       "<Figure size 432x288 with 1 Axes>"
      ]
     },
     "metadata": {
      "needs_background": "light"
     },
     "output_type": "display_data"
    }
   ],
   "source": [
    "plot_levenspiel_plot(Xin=0.6, Xout=0.9, Fa0_ra_out=80)"
   ]
  },
  {
   "cell_type": "markdown",
   "metadata": {},
   "source": [
    "## Conclusion"
   ]
  },
  {
   "cell_type": "markdown",
   "metadata": {},
   "source": [
    "The highest reaction is attained with a combination of a CSTR reactor until reaching a conversion of 0.2. Then use a PFR (or series of PFR) until reaching the maximum conversion. Based on this, the highest attainable conversion with the cost limitation will be Case 4, 4L CSTR followed by a 4L PFR and a 12L PFR."
   ]
  },
  {
   "cell_type": "code",
   "execution_count": 103,
   "metadata": {},
   "outputs": [
    {
     "name": "stdout",
     "output_type": "stream",
     "text": [
      "Maximum conversion rate: 0.770801\n"
     ]
    }
   ],
   "source": [
    "print(\"Maximum conversion rate: {:4f}\".format(conversion[\"Case 4\"]))"
   ]
  }
 ],
 "metadata": {
  "kernelspec": {
   "display_name": "Python 3",
   "language": "python",
   "name": "python3"
  },
  "language_info": {
   "codemirror_mode": {
    "name": "ipython",
    "version": 3
   },
   "file_extension": ".py",
   "mimetype": "text/x-python",
   "name": "python",
   "nbconvert_exporter": "python",
   "pygments_lexer": "ipython3",
   "version": "3.6.7"
  }
 },
 "nbformat": 4,
 "nbformat_minor": 2
}
